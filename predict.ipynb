{
 "cells": [
  {
   "cell_type": "code",
   "execution_count": 1,
   "id": "6c7af2d5",
   "metadata": {},
   "outputs": [
    {
     "name": "stderr",
     "output_type": "stream",
     "text": [
      "c:\\Users\\Chris\\miniconda3\\envs\\deepseek13b\\lib\\site-packages\\tqdm\\auto.py:21: TqdmWarning: IProgress not found. Please update jupyter and ipywidgets. See https://ipywidgets.readthedocs.io/en/stable/user_install.html\n",
      "  from .autonotebook import tqdm as notebook_tqdm\n",
      "c:\\Users\\Chris\\miniconda3\\envs\\deepseek13b\\lib\\site-packages\\transformers\\utils\\generic.py:441: FutureWarning: `torch.utils._pytree._register_pytree_node` is deprecated. Please use `torch.utils._pytree.register_pytree_node` instead.\n",
      "  _torch_pytree._register_pytree_node(\n",
      "c:\\Users\\Chris\\miniconda3\\envs\\deepseek13b\\lib\\site-packages\\transformers\\utils\\generic.py:309: FutureWarning: `torch.utils._pytree._register_pytree_node` is deprecated. Please use `torch.utils._pytree.register_pytree_node` instead.\n",
      "  _torch_pytree._register_pytree_node(\n"
     ]
    },
    {
     "name": "stdout",
     "output_type": "stream",
     "text": [
      "Using device: cuda\n"
     ]
    },
    {
     "name": "stderr",
     "output_type": "stream",
     "text": [
      "c:\\Users\\Chris\\miniconda3\\envs\\deepseek13b\\lib\\site-packages\\huggingface_hub\\file_download.py:896: FutureWarning: `resume_download` is deprecated and will be removed in version 1.0.0. Downloads always resume when possible. If you want to force a new download, use `force_download=True`.\n",
      "  warnings.warn(\n",
      "c:\\Users\\Chris\\miniconda3\\envs\\deepseek13b\\lib\\site-packages\\transformers\\modeling_utils.py:519: FutureWarning: You are using `torch.load` with `weights_only=False` (the current default value), which uses the default pickle module implicitly. It is possible to construct malicious pickle data which will execute arbitrary code during unpickling (See https://github.com/pytorch/pytorch/blob/main/SECURITY.md#untrusted-models for more details). In a future release, the default value for `weights_only` will be flipped to `True`. This limits the functions that could be executed during unpickling. Arbitrary objects will no longer be allowed to be loaded via this mode unless they are explicitly allowlisted by the user via `torch.serialization.add_safe_globals`. We recommend you start setting `weights_only=True` for any use case where you don't have full control of the loaded file. Please open an issue on GitHub for any issues related to this experimental feature.\n",
      "  return torch.load(checkpoint_file, map_location=map_location)\n",
      "Special tokens have been added in the vocabulary, make sure the associated word embeddings are fine-tuned or trained.\n",
      "c:\\Users\\Chris\\miniconda3\\envs\\deepseek13b\\lib\\site-packages\\peft\\utils\\save_and_load.py:224: FutureWarning: You are using `torch.load` with `weights_only=False` (the current default value), which uses the default pickle module implicitly. It is possible to construct malicious pickle data which will execute arbitrary code during unpickling (See https://github.com/pytorch/pytorch/blob/main/SECURITY.md#untrusted-models for more details). In a future release, the default value for `weights_only` will be flipped to `True`. This limits the functions that could be executed during unpickling. Arbitrary objects will no longer be allowed to be loaded via this mode unless they are explicitly allowlisted by the user via `torch.serialization.add_safe_globals`. We recommend you start setting `weights_only=True` for any use case where you don't have full control of the loaded file. Please open an issue on GitHub for any issues related to this experimental feature.\n",
      "  adapters_weights = torch.load(filename, map_location=torch.device(device))\n",
      "You're using a CodeGenTokenizerFast tokenizer. Please note that with a fast tokenizer, using the `__call__` method is faster than using a method to encode the text followed by a call to the `pad` method to get a padded encoding.\n",
      "Generating predictions:   0%|          | 0/108 [00:00<?, ?it/s]c:\\Users\\Chris\\miniconda3\\envs\\deepseek13b\\lib\\site-packages\\transformers\\generation\\configuration_utils.py:389: UserWarning: `do_sample` is set to `False`. However, `temperature` is set to `0.0` -- this flag is only used in sample-based generation modes. You should set `do_sample=True` or unset `temperature`.\n",
      "  warnings.warn(\n",
      "Generating predictions: 100%|██████████| 108/108 [26:18<00:00, 14.62s/it]"
     ]
    },
    {
     "name": "stdout",
     "output_type": "stream",
     "text": [
      " Finished predictions:  ./predictions.txt\n"
     ]
    },
    {
     "name": "stderr",
     "output_type": "stream",
     "text": [
      "\n"
     ]
    }
   ],
   "source": [
    "import json\n",
    "from transformers import AutoTokenizer, AutoModelForCausalLM\n",
    "from peft import PeftModel\n",
    "import torch\n",
    "from tqdm import tqdm\n",
    "\n",
    "# Config\n",
    "BASE_MODEL = \"Salesforce/codegen-350M-mono\"\n",
    "LORA_PATH = \"./lora-adapter\"\n",
    "TEST_PATH = \"./1-encoder-data/test/test.jsonl\"\n",
    "OUTPUT_PATH = \"./predictions.txt\"\n",
    "\n",
    "DEVICE = \"cuda\" if torch.cuda.is_available() else \"cpu\"\n",
    "print(f\"Using device: {DEVICE}\")\n",
    "\n",
    "# Load base model and tokenizer\n",
    "base_model = AutoModelForCausalLM.from_pretrained(BASE_MODEL, torch_dtype=torch.float16 if DEVICE == \"cuda\" else torch.float32)\n",
    "tokenizer = AutoTokenizer.from_pretrained(LORA_PATH)\n",
    "tokenizer.padding_side = \"left\"\n",
    "\n",
    "\n",
    "# Inject LoRA adapter\n",
    "model = PeftModel.from_pretrained(base_model, LORA_PATH)\n",
    "model.to(DEVICE)\n",
    "model.eval()\n",
    "\n",
    "# Load test data\n",
    "test_data = []\n",
    "with open(TEST_PATH, \"r\", encoding=\"utf-8\") as f:\n",
    "    for line in f:\n",
    "        test_data.append(json.loads(line))\n",
    "\n",
    "from torch.utils.data import DataLoader\n",
    "\n",
    "BATCH_SIZE = 16  \n",
    "MAX_INPUT_LEN = 512\n",
    "MAX_NEW_TOKENS = 256\n",
    "\n",
    "#Tokenize without tensors for correct padding later\n",
    "inputs = [tokenizer(example[\"input\"], truncation=True, max_length=MAX_INPUT_LEN) for example in test_data]\n",
    "\n",
    "# Pad using tokenizer logic (respects padding_side)\n",
    "batch_encoding = tokenizer.pad(inputs, padding=True, return_tensors=\"pt\")\n",
    "\n",
    "input_ids = batch_encoding[\"input_ids\"]\n",
    "attention_mask = batch_encoding[\"attention_mask\"]\n",
    "\n",
    "# Create batches\n",
    "dataloader = DataLoader(list(zip(input_ids, attention_mask)), batch_size=BATCH_SIZE)\n",
    "\n",
    "# Predict\n",
    "with open(OUTPUT_PATH, \"w\", encoding=\"utf-8\") as out_file:\n",
    "    for batch in tqdm(dataloader, desc=\"Generating predictions\"):\n",
    "        input_ids_batch, attention_mask_batch = [x.to(DEVICE) for x in batch]\n",
    "\n",
    "        with torch.no_grad():\n",
    "            output_tokens = model.generate(\n",
    "                input_ids=input_ids_batch,\n",
    "                attention_mask=attention_mask_batch,\n",
    "                max_new_tokens=MAX_NEW_TOKENS,\n",
    "                temperature=0.0,\n",
    "                do_sample=False,\n",
    "                pad_token_id=tokenizer.pad_token_id,\n",
    "                eos_token_id=tokenizer.eos_token_id,\n",
    "            )\n",
    "\n",
    "        for input_ids_i, generated_i in zip(input_ids_batch, output_tokens):\n",
    "            decoded = tokenizer.decode(generated_i, skip_special_tokens=True)\n",
    "            input_text = tokenizer.decode(input_ids_i, skip_special_tokens=True)\n",
    "            prediction = decoded[len(input_text):].strip() if decoded.startswith(input_text) else decoded.strip()\n",
    "            out_file.write(prediction + \"\\n\")\n",
    "\n",
    "\n",
    "print(f\" Finished predictions:  {OUTPUT_PATH}\")\n"
   ]
  }
 ],
 "metadata": {
  "kernelspec": {
   "display_name": "deepseek13b",
   "language": "python",
   "name": "python3"
  },
  "language_info": {
   "codemirror_mode": {
    "name": "ipython",
    "version": 3
   },
   "file_extension": ".py",
   "mimetype": "text/x-python",
   "name": "python",
   "nbconvert_exporter": "python",
   "pygments_lexer": "ipython3",
   "version": "3.10.17"
  }
 },
 "nbformat": 4,
 "nbformat_minor": 5
}
